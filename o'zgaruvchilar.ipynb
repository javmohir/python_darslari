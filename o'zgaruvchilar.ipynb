{
  "cells": [
    {
      "cell_type": "markdown",
      "metadata": {
        "id": "view-in-github",
        "colab_type": "text"
      },
      "source": [
        "<a href=\"https://colab.research.google.com/github/javmohir/python_darslari/blob/main/o'zgaruvchilar.ipynb\" target=\"_parent\"><img src=\"https://colab.research.google.com/assets/colab-badge.svg\" alt=\"Open In Colab\"/></a>"
      ]
    },
    {
      "cell_type": "code",
      "execution_count": 1,
      "metadata": {
        "id": "BujG8fbPpbuD"
      },
      "outputs": [],
      "source": [
        "import numpy as np\n",
        "import pandas as pd\n"
      ]
    },
    {
      "cell_type": "markdown",
      "source": [
        "Pythonda o'zgaruvchilar bilan ishlashni o'rganamiz\n",
        "\n",
        "O'ZGARUVCHI (VARIABLE)\n",
        "O'zgaruvchi — kompyuter xotirasida ma'lum bir qiymatni saqlash uchun ajratilgan joy. Soddaroq qilib tushuntirsak, o'zgaruvchini quti, quti ichidagi narsani esa qiymat deb tasavvur qilish mumkin. Pythonda qiymatlar son, matn, ro'yxat va hokazo ko'rinishida bo'lishi mumkin."
      ],
      "metadata": {
        "id": "1WTP7Kj-PUs_"
      }
    },
    {
      "cell_type": "markdown",
      "source": [
        "Quyidagi misolga e'tibor bering, biz 2 ta o'zgaruvchi yaratdik (ism va yosh) va ularga qiymatlar yukladik (Pythonda boshqa tillardagi ka'bi o'zgaruvchilarni avvaldan e'lon qilish yo'q):\n",
        "\n"
      ],
      "metadata": {
        "id": "B3AfejmyPcK_"
      }
    },
    {
      "cell_type": "code",
      "source": [
        "ism = \"Abdulloh\"\n",
        "yosh = 25\n",
        "print(ism)\n",
        "print(yosh)"
      ],
      "metadata": {
        "id": "Y85N3bM3UK_G",
        "colab": {
          "base_uri": "https://localhost:8080/"
        },
        "outputId": "ce41a877-2ffd-4b82-e2b9-26e69ea86a8b"
      },
      "execution_count": null,
      "outputs": [
        {
          "output_type": "stream",
          "name": "stdout",
          "text": [
            "Abdulloh\n",
            "25\n"
          ]
        }
      ]
    },
    {
      "cell_type": "markdown",
      "source": [
        "O'ZGARUVCHILARNI NOMLASH\n",
        "O'zgaruvchilarga nom berishda quyidagi qoidalarga amal qiling:\n",
        "\n",
        "O'zgaruvchi nomi harf yoki pastki chiziq (_) bilan boshlanishi kerak\n",
        "O'zgaruvchi nomi raqam bilan boshlanishi mumkin emas\n",
        "O'zgaruvchi nomida faqatgina lotin alifbosi harflari (A-z), raqamlar (0-9) va pastki chiziq (_) qatnashishi mumkin\n",
        "O'zgaruvchi nomida bo'shliq (пробел) bo'lishi mumkin emas\n",
        "O'zgaruvchi nomida katta-kichik harflar turlicha talqin qilinadi (ism, ISM, va Ism uchta turli o'zgaruvchi)\n",
        "Qo'shimcha qoida sifatida:\n",
        "\n",
        "O'zgaruvchi nomini kichik harflar bilan yozing.\n",
        "O'zgaruvchi nomida 2 va undan ortiq so'z qatnashsa ularning orasini pastki chiziq (_) bilan ajrating (ism_sharif=\"Anvar Narzullaev\")\n",
        "O'zgaruvchiga tushunarli nom bering (y=20 emas yosh=20, d=\"Korea\" emas davlat = \"Korea\" va hokazo)\n",
        "Shuningdek o'zgaruvchilarga Pythonda ishlatiladigan funktsiyalar va maxsus kalit so'zlarning (keywords) nomini bermang. Kalit so'zlar ro'yhatini ko'rish uchun Spyder konsolida avval help() deb yozing va Enter tugmasini bosing. Keyin esa keywords deb kiritib, yana Enter bosing. Marhamat, ekraningizda Pythondagi maxsus kalit so'zlar ro'yhatini ko'ryapsiz:"
      ],
      "metadata": {
        "id": "iVGzMjjbQQfR"
      }
    },
    {
      "cell_type": "markdown",
      "source": [
        "help()\n",
        "\n",
        "Welcome to Python 3.8's help utility!\n",
        "\n",
        "If this is your first time using Python, you should definitely check out\n",
        "the tutorial on the Internet at https://docs.python.org/3.8/tutorial/.\n",
        "\n",
        "Enter the name of any module, keyword, or topic to get help on writing\n",
        "Python programs and using Python modules.  To quit this help utility and\n",
        "return to the interpreter, just type \"quit\".\n",
        "\n",
        "To get a list of available modules, keywords, symbols, or topics, type\n",
        "\"modules\", \"keywords\", \"symbols\", or \"topics\".  Each module also comes\n",
        "with a one-line summary of what it does; to list the modules whose name\n",
        "or summary contain a given string such as \"spam\", type \"modules spam\".\n",
        "\n",
        "help> keywords\n",
        "\n",
        "Here is a list of the Python keywords.  Enter any keyword to get more help.\n",
        "\n",
        "False               class               from                or\n",
        "None                continue            global              pass\n",
        "True                def                 if                  raise\n",
        "and                 del                 import              return\n",
        "as                  elif                in                  try\n",
        "assert              else                is                  while\n",
        "async               except              lambda              with\n",
        "await               finally             nonlocal            yield"
      ],
      "metadata": {
        "id": "dWpb4clrQYKO"
      }
    },
    {
      "cell_type": "code",
      "source": [
        "raduis=5\n",
        "pi=3.14\n",
        "aylana_yuzi=pi*raduis**2\n",
        "print(\"radusi\", raduis, \"ga teng aylanani yuzi\", aylana_yuzi, \"ga teng\")"
      ],
      "metadata": {
        "colab": {
          "base_uri": "https://localhost:8080/"
        },
        "id": "-UuJd5T_PeYn",
        "outputId": "6d3a3139-7499-4c6e-ccc4-5fd3ce0aef9d"
      },
      "execution_count": 2,
      "outputs": [
        {
          "output_type": "stream",
          "name": "stdout",
          "text": [
            "radusi 5 ga teng aylanani yuzi 78.5 ga teng\n"
          ]
        }
      ]
    },
    {
      "cell_type": "code",
      "source": [
        "# \"Hello World!\" matnini yangi o'zgaruvchiga yuklang va print() yordamida konsolga chiqaring\n",
        "matn = \"Hello World!\"\n",
        "print(matn)"
      ],
      "metadata": {
        "colab": {
          "base_uri": "https://localhost:8080/"
        },
        "id": "6p4cHuvaRbEg",
        "outputId": "f8806535-11ad-4d6b-c055-9d24d1b1c032"
      },
      "execution_count": 3,
      "outputs": [
        {
          "output_type": "stream",
          "name": "stdout",
          "text": [
            "Hello World!\n"
          ]
        }
      ]
    },
    {
      "cell_type": "code",
      "source": [
        "xabar = \"Assalom alaykum\"\n",
        "print(xabar)"
      ],
      "metadata": {
        "colab": {
          "base_uri": "https://localhost:8080/"
        },
        "id": "NTEp1qwOWBaT",
        "outputId": "9d8adfbd-f766-4d64-cfa3-2ea0f8484231"
      },
      "execution_count": 4,
      "outputs": [
        {
          "output_type": "stream",
          "name": "stdout",
          "text": [
            "Assalom alaykum\n"
          ]
        }
      ]
    }
  ],
  "metadata": {
    "colab": {
      "provenance": [],
      "authorship_tag": "ABX9TyOsBTwKLzA8uKU6v2DQ6d8o",
      "include_colab_link": true
    },
    "kernelspec": {
      "display_name": "Python 3",
      "name": "python3"
    },
    "language_info": {
      "name": "python"
    }
  },
  "nbformat": 4,
  "nbformat_minor": 0
}